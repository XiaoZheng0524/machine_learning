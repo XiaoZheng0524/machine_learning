{
 "cells": [
  {
   "cell_type": "markdown",
   "metadata": {},
   "source": [
    "# 线性回归\n",
    "- 广义线性模型\n",
    "    - 自变量一次（线性关系）: $y = w_1*x_1 + w_2*x_2 + w_3*x_3 + ... + w_n*x_n + b$\n",
    "    - 参数一次: $y = w_1*x_1 + w_2*x_1^2 + w_3*x_1^3 + ... + b$"
   ]
  },
  {
   "cell_type": "markdown",
   "metadata": {},
   "source": [
    "## 波士顿房价预测"
   ]
  },
  {
   "cell_type": "code",
   "execution_count": 12,
   "metadata": {},
   "outputs": [],
   "source": [
    "from sklearn.datasets import load_boston\n",
    "from sklearn.metrics import mean_squared_error\n",
    "from sklearn.model_selection import train_test_split\n",
    "from sklearn.preprocessing import StandardScaler\n",
    "from sklearn.linear_model import LinearRegression, SGDRegressor"
   ]
  },
  {
   "cell_type": "code",
   "execution_count": 7,
   "metadata": {},
   "outputs": [
    {
     "name": "stderr",
     "output_type": "stream",
     "text": [
      "/home/patrick/miniconda3/envs/sklearn/lib/python3.10/site-packages/sklearn/utils/deprecation.py:87: FutureWarning: Function load_boston is deprecated; `load_boston` is deprecated in 1.0 and will be removed in 1.2.\n",
      "\n",
      "    The Boston housing prices dataset has an ethical problem. You can refer to\n",
      "    the documentation of this function for further details.\n",
      "\n",
      "    The scikit-learn maintainers therefore strongly discourage the use of this\n",
      "    dataset unless the purpose of the code is to study and educate about\n",
      "    ethical issues in data science and machine learning.\n",
      "\n",
      "    In this special case, you can fetch the dataset from the original\n",
      "    source::\n",
      "\n",
      "        import pandas as pd\n",
      "        import numpy as np\n",
      "\n",
      "\n",
      "        data_url = \"http://lib.stat.cmu.edu/datasets/boston\"\n",
      "        raw_df = pd.read_csv(data_url, sep=\"\\s+\", skiprows=22, header=None)\n",
      "        data = np.hstack([raw_df.values[::2, :], raw_df.values[1::2, :2]])\n",
      "        target = raw_df.values[1::2, 2]\n",
      "\n",
      "    Alternative datasets include the California housing dataset (i.e.\n",
      "    :func:`~sklearn.datasets.fetch_california_housing`) and the Ames housing\n",
      "    dataset. You can load the datasets as follows::\n",
      "\n",
      "        from sklearn.datasets import fetch_california_housing\n",
      "        housing = fetch_california_housing()\n",
      "\n",
      "    for the California housing dataset and::\n",
      "\n",
      "        from sklearn.datasets import fetch_openml\n",
      "        housing = fetch_openml(name=\"house_prices\", as_frame=True)\n",
      "\n",
      "    for the Ames housing dataset.\n",
      "    \n",
      "  warnings.warn(msg, category=FutureWarning)\n"
     ]
    }
   ],
   "source": [
    "# 1）获取数据\n",
    "boston = load_boston()"
   ]
  },
  {
   "cell_type": "code",
   "execution_count": 8,
   "metadata": {},
   "outputs": [],
   "source": [
    "# 2）划分数据集\n",
    "x_train, x_test, y_train, y_test = train_test_split(boston.data, boston.target, random_state=0)"
   ]
  },
  {
   "cell_type": "code",
   "execution_count": 9,
   "metadata": {},
   "outputs": [],
   "source": [
    "# 3）标准化\n",
    "transfer = StandardScaler()\n",
    "x_train = transfer.fit_transform(x_train)\n",
    "x_test = transfer.transform(x_test)"
   ]
  },
  {
   "cell_type": "markdown",
   "metadata": {},
   "source": [
    "### 使用正规方程优化求解"
   ]
  },
  {
   "cell_type": "code",
   "execution_count": 17,
   "metadata": {},
   "outputs": [
    {
     "name": "stdout",
     "output_type": "stream",
     "text": [
      "正规方程-权重系数为：\n",
      " [-0.97100092  1.04667838 -0.04044753  0.59408776 -1.80876877  2.60991991\n",
      " -0.19823317 -3.00216551  2.08021582 -1.93289037 -2.15743759  0.75199122\n",
      " -3.59027047]\n",
      "正规方程-偏置为：\n",
      " 22.6087071240106\n",
      "预测房价：\n",
      " [24.95233283 23.61699724 29.20588553 11.96070515 21.33362042 19.46954895\n",
      " 20.42228421 21.52044058 18.98954101 19.950983    4.92468244 16.09694058\n",
      " 16.93599574  5.33508402 39.84434398 32.33549843 22.32772572 36.54017819\n",
      " 31.03300611 23.32172503 24.92086498 24.26106474 20.71504422 30.45072552\n",
      " 22.45009234  9.87470006 17.70324412 17.974775   35.69932012 20.7940972\n",
      " 18.10554174 17.68317865 19.71354713 23.79693873 29.06528958 19.23738284\n",
      " 10.97815878 24.56199978 17.32913052 15.20340817 26.09337458 20.87706795\n",
      " 22.26187518 15.32582693 22.85847963 25.08887173 19.74138819 22.70744911\n",
      "  9.66708558 24.46175926 20.72654169 17.52545047 24.45596997 30.10668865\n",
      " 13.31250981 21.52052342 20.65642932 15.34285652 13.7741129  22.07429287\n",
      " 17.53293957 21.60707766 32.91050188 31.32796114 17.64346364 32.69909854\n",
      " 18.56579207 19.32110821 18.81256692 23.04351442 22.81649956 23.99800754\n",
      " 30.62733254 28.8662207  25.78198145  5.00689605 36.83409088 23.80490328\n",
      " 27.36965299 19.33057146 28.51439846 19.19147448 18.81694283 37.94245021\n",
      " 39.3441055  23.90759744 24.95985846 15.70262358 25.92060968 16.56968829\n",
      " 15.76303806 12.89190083 24.4389405  30.9319885  22.36798609 20.17628607\n",
      "  0.22819711 25.26459847 15.35369364 17.7983399  25.44689554 22.46612234\n",
      " 32.57911019 22.01436262 27.37542798 23.31348039  6.29811532 14.75925592\n",
      " 22.44945223 29.11172812 32.97160856 12.85457141 19.79963356 20.60017439\n",
      " 12.06928939 23.38532482  4.75243811 19.8342911   9.17555571 44.63299931\n",
      " 30.63144603 12.29971299 17.53804831 21.50222331 23.63281301 20.28259817\n",
      " 35.17973368]\n",
      "正规方程-均方误差为：\n",
      " 29.78224509230234\n"
     ]
    }
   ],
   "source": [
    "# 4）预估器\n",
    "estimator = LinearRegression()\n",
    "estimator.fit(x_train, y_train)\n",
    "\n",
    "# 5）得出模型\n",
    "print(\"正规方程-权重系数为：\\n\", estimator.coef_)\n",
    "print(\"正规方程-偏置为：\\n\", estimator.intercept_)\n",
    "\n",
    "# 6）模型评估\n",
    "y_predict = estimator.predict(x_test)\n",
    "print(\"预测房价：\\n\", y_predict)\n",
    "error = mean_squared_error(y_test, y_predict)\n",
    "print(\"正规方程-均方误差为：\\n\", error)"
   ]
  },
  {
   "cell_type": "markdown",
   "metadata": {},
   "source": [
    "### 使用梯度下降迭代求解"
   ]
  },
  {
   "cell_type": "code",
   "execution_count": 16,
   "metadata": {},
   "outputs": [
    {
     "name": "stdout",
     "output_type": "stream",
     "text": [
      "正规方程-权重系数为：\n",
      " [-0.47205029  1.10725269  0.05410314  0.28081675 -1.78527002  1.77455881\n",
      " -0.08942039 -2.8651933   1.66702671 -1.58228433 -2.323182    0.9453406\n",
      " -3.19365073]\n",
      "正规方程-偏置为：\n",
      " [22.78949303]\n",
      "预测房价：\n",
      " [24.91063154 23.94190406 28.07677819 14.93685994 21.71602061 19.79459443\n",
      " 20.94954532 21.52421358 20.62044807 19.09144342  9.3555977  16.12361095\n",
      " 17.35019088  9.59804256 37.02599036 31.54749929 22.53982333 35.79894836\n",
      " 30.30424434 23.51273338 24.42118012 25.53911426 21.02422277 29.98441346\n",
      " 23.07732047 13.01989041 18.26711967 19.47773766 33.24442105 21.71407229\n",
      " 19.07585109 18.43342586 19.9620659  24.37791037 28.87442009 18.782455\n",
      " 13.59340277 23.86704012 17.27804142 16.13574172 26.35862349 21.59517368\n",
      " 22.62999716 17.03188565 23.09770558 25.00244661 21.02343699 22.48709896\n",
      " 13.19701201 23.82849072 20.04334461 18.5447548  24.77548255 27.37607998\n",
      " 14.42544503 22.55480476 21.83574996 16.17108839 16.43954887 21.67805879\n",
      " 18.43708762 22.01459436 31.83435802 30.32243035 19.09356238 32.38687103\n",
      " 18.64761646 20.3125662  18.85731927 23.38026681 23.11421498 24.05616882\n",
      " 30.69223516 28.09943696 25.23385552  8.90871622 33.99255237 23.76707998\n",
      " 27.10069807 20.18813321 28.07922445 19.52851174 20.12246615 35.08104232\n",
      " 35.98033469 23.46271492 25.16130139 16.15440823 26.18770596 17.4025769\n",
      " 16.96933219 13.10013534 25.12352034 30.60799664 22.48664824 20.38064382\n",
      "  5.26072539 25.44985843 14.87197329 18.54600362 25.1324108  22.3388348\n",
      " 30.40395492 22.23893931 26.88408539 24.14302941  9.15792582 16.42106189\n",
      " 22.49550721 28.82059801 32.49125619 14.61349757 20.95237359 21.46792154\n",
      " 14.47445712 22.58775494  6.4083356  20.10457454 12.06481796 41.40228461\n",
      " 30.24892732 14.32251563 18.76852169 21.96939805 24.06087945 21.21718501\n",
      " 33.28841334]\n",
      "正规方程-均方误差为：\n",
      " 31.12555677000499\n"
     ]
    }
   ],
   "source": [
    "# 4）预估器\n",
    "estimator = SGDRegressor(learning_rate=\"constant\", eta0=0.01, max_iter=10000, penalty=\"l1\")\n",
    "estimator.fit(x_train, y_train)\n",
    "\n",
    "# 5）得出模型\n",
    "print(\"正规方程-权重系数为：\\n\", estimator.coef_)\n",
    "print(\"正规方程-偏置为：\\n\", estimator.intercept_)\n",
    "\n",
    "# 6）模型评估\n",
    "y_predict = estimator.predict(x_test)\n",
    "print(\"预测房价：\\n\", y_predict)\n",
    "error = mean_squared_error(y_test, y_predict)\n",
    "print(\"正规方程-均方误差为：\\n\", error)"
   ]
  },
  {
   "cell_type": "code",
   "execution_count": 14,
   "metadata": {},
   "outputs": [
    {
     "name": "stdout",
     "output_type": "stream",
     "text": [
      "正规方程-权重系数为：\n",
      " [-1.34213142  1.26366272  0.          0.95304239 -1.67910252  2.56846379\n",
      " -0.12698283 -3.09700549  1.61011855 -1.79256309 -2.59026424  0.7942378\n",
      " -3.36366318]\n",
      "正规方程-偏置为：\n",
      " [22.4506148]\n",
      "预测房价：\n",
      " [24.86562739 22.31512551 31.0235234  10.3822708  21.11086712 18.76851881\n",
      " 19.14595154 20.84726119 18.9305347  19.31257835  0.95312001 14.7087872\n",
      " 16.06828895  4.11343833 41.83599731 32.85448199 20.9282513  37.78634403\n",
      " 30.96803363 22.86459529 24.30464499 25.18081007 20.38335172 30.53248255\n",
      " 22.24824336  8.51352112 17.25638196 19.32474445 35.39051298 21.20237146\n",
      " 16.96195846 16.65825071 19.24807408 24.05355137 29.27698871 19.88075309\n",
      "  9.58633331 24.75779786 16.04630921 14.35535179 26.15583936 20.7910872\n",
      " 22.24750167 14.26762801 23.28027034 25.0414426  20.11319588 25.5063678\n",
      " 11.53704093 23.90648415 23.2812327  17.52570109 24.35460794 29.09575264\n",
      " 13.26188055 22.17111396 21.11134244 15.0083283  10.41080556 23.63581983\n",
      " 17.44075499 21.58747581 32.91036051 30.84443635 16.13663535 33.21361796\n",
      " 17.69473426 20.18609127 17.42120544 22.78527374 22.6674039  23.66285614\n",
      " 31.15235969 28.92964412 24.29096706  3.93327227 36.37409051 23.5764124\n",
      " 27.38577444 19.31226013 28.52615148 19.12629571 17.52090158 37.54187983\n",
      " 38.93240837 23.16015283 24.97144378 14.12783186 27.03647431 15.73912292\n",
      " 15.82083724 11.85463966 25.03016331 31.60728026 22.01101369 19.57488502\n",
      " -0.41290642 25.64331059 14.35638096 17.30942887 25.132581   22.07606006\n",
      " 33.91072175 21.45796817 27.52266422 23.92086672  4.72909057 13.94757368\n",
      " 22.12448359 29.25963223 33.67309318 12.12159973 20.66414053 20.89071755\n",
      " 13.30180703 24.75462106  3.95952255 19.62714783  8.40441893 47.13494765\n",
      " 31.0624909  11.64398685 17.55406668 21.44310577 23.62641582 20.62994808\n",
      " 34.92317856]\n",
      "正规方程-均方误差为：\n",
      " 33.14249953454529\n"
     ]
    }
   ],
   "source": []
  }
 ],
 "metadata": {
  "kernelspec": {
   "display_name": "base",
   "language": "python",
   "name": "python3"
  },
  "language_info": {
   "codemirror_mode": {
    "name": "ipython",
    "version": 3
   },
   "file_extension": ".py",
   "mimetype": "text/x-python",
   "name": "python",
   "nbconvert_exporter": "python",
   "pygments_lexer": "ipython3",
   "version": "3.10.10"
  },
  "orig_nbformat": 4
 },
 "nbformat": 4,
 "nbformat_minor": 2
}
