{
 "cells": [
  {
   "cell_type": "markdown",
   "metadata": {},
   "source": [
    "# k-近邻算法（kNN，k nearest neighbor）\n",
    "- 如果一个样本在特征空间中的k个最相似（在特征空间中距离最近,默认使用欧氏距离）的样本中大多数属于某一个类别，则该样本也属于这个类别\n",
    "- 优点：简单，易于理解，易于实现，无需训练\n",
    "- 缺点：\n",
    "    - 必须指定K值，K值选择不当则分类精度不能保证\n",
    "    - 懒惰算法，对测试样本分类时的计算量大，内存开销大\n",
    "- 使用场景：小数据场景，几千～几万样本，具体场景具体业务去测试"
   ]
  },
  {
   "cell_type": "code",
   "execution_count": 1,
   "metadata": {},
   "outputs": [],
   "source": [
    "from sklearn.datasets import load_iris\n",
    "from sklearn.preprocessing import StandardScaler\n",
    "from sklearn.neighbors import KNeighborsClassifier\n",
    "from sklearn.model_selection import train_test_split"
   ]
  },
  {
   "cell_type": "code",
   "execution_count": 2,
   "metadata": {},
   "outputs": [
    {
     "name": "stdout",
     "output_type": "stream",
     "text": [
      "y_predict:\n",
      " [2 1 0 2 0 2 0 1 1 1 2 1 1 1 1 0 1 1 0 0 2 1 0 0 2 0 0 1 1 0 2 1 0 2 2 1 0\n",
      " 2]\n",
      "直接比对真实值和预测值:\n",
      " [ True  True  True  True  True  True  True  True  True  True  True  True\n",
      "  True  True  True  True  True  True  True  True  True  True  True  True\n",
      "  True  True  True  True  True  True  True  True  True  True  True  True\n",
      "  True False]\n",
      "准确率为：\n",
      " 0.9736842105263158\n"
     ]
    }
   ],
   "source": [
    "# 1）获取数据\n",
    "iris = load_iris()\n",
    "\n",
    "# 2）划分数据集\n",
    "x_train, x_test, y_train, y_test = train_test_split(iris.data, iris.target, random_state=0)\n",
    "\n",
    "# 3）特征工程：标准化\n",
    "transfer = StandardScaler()\n",
    "# fit先计算数据的统计特征，如均值、标准差，在使用transform对数据进行改变\n",
    "x_train = transfer.fit_transform(x_train)\n",
    "x_test = transfer.transform(x_test)\n",
    "\n",
    "# 4）KNN算法预估器\n",
    "estimator = KNeighborsClassifier(n_neighbors=3)\n",
    "estimator.fit(x_train, y_train)\n",
    "\n",
    "# 5）模型评估\n",
    "# 方法1：直接比对真实值和预测值\n",
    "y_predict = estimator.predict(x_test)\n",
    "print(\"y_predict:\\n\", y_predict)\n",
    "print(\"直接比对真实值和预测值:\\n\", y_test == y_predict)\n",
    "\n",
    "# 方法2：计算准确率\n",
    "score = estimator.score(x_test, y_test)\n",
    "print(\"准确率为：\\n\", score)"
   ]
  },
  {
   "cell_type": "markdown",
   "metadata": {},
   "source": [
    "# 模型调优\n",
    "使用交叉验证，并调整超参数选择最好的模型"
   ]
  },
  {
   "cell_type": "code",
   "execution_count": 3,
   "metadata": {},
   "outputs": [],
   "source": [
    "from sklearn.datasets import load_iris\n",
    "from sklearn.preprocessing import StandardScaler\n",
    "from sklearn.neighbors import KNeighborsClassifier\n",
    "from sklearn.model_selection import train_test_split, GridSearchCV"
   ]
  },
  {
   "cell_type": "code",
   "execution_count": 4,
   "metadata": {},
   "outputs": [
    {
     "name": "stdout",
     "output_type": "stream",
     "text": [
      "y_predict:\n",
      " [2 1 0 2 0 2 0 1 1 1 2 1 1 1 1 0 1 1 0 0 2 1 0 0 2 0 0 1 1 0 2 1 0 2 2 1 0\n",
      " 2]\n",
      "直接比对真实值和预测值:\n",
      " [ True  True  True  True  True  True  True  True  True  True  True  True\n",
      "  True  True  True  True  True  True  True  True  True  True  True  True\n",
      "  True  True  True  True  True  True  True  True  True  True  True  True\n",
      "  True False]\n",
      "准确率为：\n",
      " 0.9736842105263158\n",
      "最佳参数：\n",
      " {'n_neighbors': 7}\n",
      "最佳结果：\n",
      " 0.9651515151515152\n",
      "最佳估计器:\n",
      " KNeighborsClassifier(n_neighbors=7)\n",
      "交叉验证结果:\n",
      " {'mean_fit_time': array([0.00025518, 0.00022383, 0.00023382, 0.00025301, 0.00024827,\n",
      "       0.00022247]), 'std_fit_time': array([1.04389067e-04, 3.06839802e-05, 2.01947855e-05, 3.91135543e-05,\n",
      "       3.06417595e-05, 1.94930919e-05]), 'mean_score_time': array([0.00057471, 0.00050786, 0.000545  , 0.00061357, 0.00057642,\n",
      "       0.00051537]), 'std_score_time': array([1.88685893e-04, 5.92675644e-05, 1.13209891e-04, 4.77597405e-05,\n",
      "       5.57108312e-05, 4.80751659e-05]), 'param_n_neighbors': masked_array(data=[1, 3, 5, 7, 9, 11],\n",
      "             mask=[False, False, False, False, False, False],\n",
      "       fill_value='?',\n",
      "            dtype=object), 'params': [{'n_neighbors': 1}, {'n_neighbors': 3}, {'n_neighbors': 5}, {'n_neighbors': 7}, {'n_neighbors': 9}, {'n_neighbors': 11}], 'split0_test_score': array([1., 1., 1., 1., 1., 1.]), 'split1_test_score': array([0.91666667, 0.91666667, 0.91666667, 0.83333333, 0.91666667,\n",
      "       0.91666667]), 'split2_test_score': array([0.90909091, 0.90909091, 0.90909091, 0.90909091, 0.81818182,\n",
      "       0.90909091]), 'split3_test_score': array([0.81818182, 1.        , 0.90909091, 1.        , 1.        ,\n",
      "       1.        ]), 'split4_test_score': array([1., 1., 1., 1., 1., 1.]), 'split5_test_score': array([1., 1., 1., 1., 1., 1.]), 'split6_test_score': array([1., 1., 1., 1., 1., 1.]), 'split7_test_score': array([0.81818182, 0.72727273, 0.81818182, 0.90909091, 0.81818182,\n",
      "       0.81818182]), 'split8_test_score': array([1., 1., 1., 1., 1., 1.]), 'split9_test_score': array([0.90909091, 0.90909091, 1.        , 1.        , 0.90909091,\n",
      "       0.90909091]), 'mean_test_score': array([0.93712121, 0.94621212, 0.95530303, 0.96515152, 0.94621212,\n",
      "       0.95530303]), 'std_test_score': array([0.07074719, 0.08301938, 0.0604591 , 0.05671202, 0.07238318,\n",
      "       0.0604591 ]), 'rank_test_score': array([6, 4, 2, 1, 4, 2], dtype=int32)}\n"
     ]
    }
   ],
   "source": [
    "# 1）获取数据\n",
    "iris = load_iris()\n",
    "\n",
    "# 2）划分数据集\n",
    "x_train, x_test, y_train, y_test = train_test_split(iris.data, iris.target, random_state=0)\n",
    "\n",
    "# 3）特征工程：标准化\n",
    "transfer = StandardScaler()\n",
    "x_train = transfer.fit_transform(x_train)\n",
    "x_test = transfer.transform(x_test)\n",
    "\n",
    "# 4）KNN算法预估器\n",
    "estimator = KNeighborsClassifier()\n",
    "\n",
    "# 加入网格搜索与交叉验证\n",
    "# 参数准备\n",
    "param_dict = {\"n_neighbors\": [1, 3, 5, 7, 9, 11]}\n",
    "estimator = GridSearchCV(estimator, param_grid=param_dict, cv=10)\n",
    "estimator.fit(x_train, y_train)\n",
    "\n",
    "# 5）模型评估\n",
    "# 方法1：直接比对真实值和预测值\n",
    "y_predict = estimator.predict(x_test)\n",
    "print(\"y_predict:\\n\", y_predict)\n",
    "print(\"直接比对真实值和预测值:\\n\", y_test == y_predict)\n",
    "\n",
    "# 方法2：计算准确率\n",
    "score = estimator.score(x_test, y_test)\n",
    "print(\"准确率为：\\n\", score)\n",
    "\n",
    "# 最佳参数：best_params_\n",
    "print(\"最佳参数：\\n\", estimator.best_params_)\n",
    "# 最佳结果：best_score_\n",
    "print(\"最佳结果：\\n\", estimator.best_score_)\n",
    "# 最佳估计器：best_estimator_\n",
    "print(\"最佳估计器:\\n\", estimator.best_estimator_)\n",
    "# 交叉验证结果：cv_results_\n",
    "print(\"交叉验证结果:\\n\", estimator.cv_results_)"
   ]
  }
 ],
 "metadata": {
  "kernelspec": {
   "display_name": "base",
   "language": "python",
   "name": "python3"
  },
  "language_info": {
   "codemirror_mode": {
    "name": "ipython",
    "version": 3
   },
   "file_extension": ".py",
   "mimetype": "text/x-python",
   "name": "python",
   "nbconvert_exporter": "python",
   "pygments_lexer": "ipython3",
   "version": "3.10.10"
  },
  "orig_nbformat": 4
 },
 "nbformat": 4,
 "nbformat_minor": 2
}
