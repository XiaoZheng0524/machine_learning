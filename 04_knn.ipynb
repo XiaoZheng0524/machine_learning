{
 "cells": [
  {
   "cell_type": "markdown",
   "metadata": {},
   "source": [
    "# k-近邻算法（kNN，k nearest neighbor）\n",
    "- 如果一个样本在特征空间中的k个最相似（在特征空间中距离最近）的样本中大多数属于某一个类别，则该样本也属于这个类别\n",
    "- 优点：简单，易于理解，易于实现，无需训练\n",
    "- 缺点：\n",
    "    - 必须指定K值，K值选择不当则分类精度不能保证\n",
    "    - 懒惰算法，对测试样本分类时的计算量大，内存开销大\n",
    "- 使用场景：小数据场景，几千～几万样本，具体场景具体业务去测试"
   ]
  },
  {
   "cell_type": "code",
   "execution_count": 1,
   "metadata": {},
   "outputs": [],
   "source": [
    "from sklearn.datasets import load_iris\n",
    "from sklearn.model_selection import train_test_split\n",
    "from sklearn.preprocessing import StandardScaler\n",
    "from sklearn.neighbors import KNeighborsClassifier"
   ]
  },
  {
   "cell_type": "code",
   "execution_count": 2,
   "metadata": {},
   "outputs": [
    {
     "name": "stdout",
     "output_type": "stream",
     "text": [
      "y_predict:\n",
      " [2 1 0 2 0 2 0 1 1 1 2 1 1 1 1 0 1 1 0 0 2 1 0 0 2 0 0 1 1 0 2 1 0 2 2 1 0\n",
      " 2]\n",
      "直接比对真实值和预测值:\n",
      " [ True  True  True  True  True  True  True  True  True  True  True  True\n",
      "  True  True  True  True  True  True  True  True  True  True  True  True\n",
      "  True  True  True  True  True  True  True  True  True  True  True  True\n",
      "  True False]\n",
      "准确率为：\n",
      " 0.9736842105263158\n"
     ]
    }
   ],
   "source": [
    "# 1）获取数据\n",
    "iris = load_iris()\n",
    "\n",
    "# 2）划分数据集\n",
    "x_train, x_test, y_train, y_test = train_test_split(iris.data, iris.target, random_state=0)\n",
    "\n",
    "# 3）特征工程：标准化\n",
    "transfer = StandardScaler()\n",
    "# fit先计算数据的统计特征，如均值、标准差，在使用transform对数据进行改变\n",
    "x_train = transfer.fit_transform(x_train)\n",
    "x_test = transfer.transform(x_test)\n",
    "\n",
    "# 4）KNN算法预估器\n",
    "estimator = KNeighborsClassifier(n_neighbors=3)\n",
    "estimator.fit(x_train, y_train)\n",
    "\n",
    "# 5）模型评估\n",
    "# 方法1：直接比对真实值和预测值\n",
    "y_predict = estimator.predict(x_test)\n",
    "print(\"y_predict:\\n\", y_predict)\n",
    "print(\"直接比对真实值和预测值:\\n\", y_test == y_predict)\n",
    "\n",
    "# 方法2：计算准确率\n",
    "score = estimator.score(x_test, y_test)\n",
    "print(\"准确率为：\\n\", score)"
   ]
  }
 ],
 "metadata": {
  "kernelspec": {
   "display_name": "base",
   "language": "python",
   "name": "python3"
  },
  "language_info": {
   "codemirror_mode": {
    "name": "ipython",
    "version": 3
   },
   "file_extension": ".py",
   "mimetype": "text/x-python",
   "name": "python",
   "nbconvert_exporter": "python",
   "pygments_lexer": "ipython3",
   "version": "3.10.10"
  },
  "orig_nbformat": 4
 },
 "nbformat": 4,
 "nbformat_minor": 2
}
