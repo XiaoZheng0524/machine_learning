{
 "cells": [
  {
   "cell_type": "markdown",
   "metadata": {},
   "source": [
    "# 分类的评估标准"
   ]
  },
  {
   "cell_type": "markdown",
   "metadata": {},
   "source": [
    "混淆矩阵:\n",
    "| 真实类别\\预测类别 | 正例 | 假例 |\n",
    "| :---: | :---: | :---: |\n",
    "| 正例 | 真正例TP | 伪反例FN |\n",
    "| 假例 | 伪正例FP | 真反例TN |"
   ]
  },
  {
   "cell_type": "markdown",
   "metadata": {},
   "source": [
    "- 精确率: \n",
    "    - 预测结果为正例样本中真实为正例的比例, $Precision = \\frac{TP}{TP+FP}$ \n",
    "    - 精确率越高，表示模型预测为正例的样本中有更多是真正的正例，模型的误报率较低\n",
    "- 召回率: \n",
    "    - 真实结果为正例样本中预测为正例的比例, $Recall = \\frac {TP}{TP+FN}$\n",
    "    - 召回率越高，表示模型能够正确地找出更多的真实正例，模型的漏报率较低\n",
    "- F1-score:\n",
    "    - $ F1 = \\frac{2*TP}{2*TP+FN+FP} = \\frac{2*Precision*Recall}{Precion+Recall} $"
   ]
  },
  {
   "cell_type": "markdown",
   "metadata": {},
   "source": [
    "classification_report 可以返回多种准确率指标"
   ]
  },
  {
   "cell_type": "markdown",
   "metadata": {},
   "source": [
    "from sklearn.metrics import classification_report\n",
    "\n",
    "report = classification_report(y_test, y_predict, labels=[2, 4], target_names=[\"良性\", \"恶性\"])"
   ]
  },
  {
   "cell_type": "markdown",
   "metadata": {},
   "source": [
    "# ROC曲线与AUC指标\n",
    "在样本不均衡的情况下，比如正样本的数量远远大于负样本的，100个样本中只有1个负样本，全部预测为正样本的准确率、精确率、召回率、F1-score都很高，但是这个模型并不好，需要其他的指标来进行评价"
   ]
  },
  {
   "cell_type": "markdown",
   "metadata": {},
   "source": [
    "- $TPR = \\frac {TP}{TP + FN}$ = 召回率\n",
    "    - 所有真实类别为1的样本中，预测类别为1的比例\n",
    "- $FPR = \\frac{FP}{FP + TN}$\n",
    "    - 所有真实类别为0的样本中，预测类别为1的比例\n",
    "- ROC曲线：FPR为横坐标，TPR为纵坐标的曲线\n",
    "- AUC指标：\n",
    "    - 随即一对正负样本，正样本得分大于负样本的概率\n",
    "    - [0.5, 1], 值越高越好"
   ]
  },
  {
   "cell_type": "markdown",
   "metadata": {},
   "source": [
    "- API: sklearn.metrics.roc_auc_score(y_true, y_score)\n",
    "    - y_true: 每个样本的真实类别，必须为0(反例)、1(正例)标记\n",
    "    - y_score: 预测得分，可以是正类的估计概率、置信度或分类器的返回值"
   ]
  }
 ],
 "metadata": {
  "kernelspec": {
   "display_name": "base",
   "language": "python",
   "name": "python3"
  },
  "language_info": {
   "codemirror_mode": {
    "name": "ipython",
    "version": 3
   },
   "file_extension": ".py",
   "mimetype": "text/x-python",
   "name": "python",
   "nbconvert_exporter": "python",
   "pygments_lexer": "ipython3",
   "version": "3.10.10"
  },
  "orig_nbformat": 4
 },
 "nbformat": 4,
 "nbformat_minor": 2
}
