{
 "cells": [
  {
   "cell_type": "markdown",
   "metadata": {},
   "source": [
    "# 分类的评估标准"
   ]
  },
  {
   "cell_type": "markdown",
   "metadata": {},
   "source": [
    "混淆矩阵:\n",
    "| 真实类别\\预测类别 | 正例 | 假例 |\n",
    "| :---: | :---: | :---: |\n",
    "| 正例 | 真正例TP | 伪反例FN |\n",
    "| 假例 | 伪正例FP | 真反例TN |"
   ]
  },
  {
   "cell_type": "markdown",
   "metadata": {},
   "source": [
    "- 精确率: \n",
    "    - 预测结果为正例样本中真实为正例的比例, $Precision = \\frac{TP}{TP+FP}$ \n",
    "    - 精确率越高，表示模型预测为正例的样本中有更多是真正的正例，模型的误报率较低\n",
    "- 召回率: \n",
    "    - 真实结果为正例样本中预测为正例的比例, $Recall = \\frac {TP}{TP+FN}$\n",
    "    - 召回率越高，表示模型能够正确地找出更多的真实正例，模型的漏报率较低\n",
    "- F1-score:\n",
    "    - $ F1 = \\frac{2*TP}{2*TP+FN+FP} = \\frac{2*Precision*Recall}{Precion+Recall} $"
   ]
  },
  {
   "cell_type": "markdown",
   "metadata": {},
   "source": [
    "classification_report可以返回多种准确率指标"
   ]
  },
  {
   "cell_type": "code",
   "execution_count": null,
   "metadata": {},
   "outputs": [],
   "source": [
    "from sklearn.metrics import classification_report\n",
    "\n",
    "report = classification_report(y_test, y_predict, labels=[2, 4], target_names=[\"良性\", \"恶性\"])"
   ]
  }
 ],
 "metadata": {
  "kernelspec": {
   "display_name": "base",
   "language": "python",
   "name": "python3"
  },
  "language_info": {
   "codemirror_mode": {
    "name": "ipython",
    "version": 3
   },
   "file_extension": ".py",
   "mimetype": "text/x-python",
   "name": "python",
   "nbconvert_exporter": "python",
   "pygments_lexer": "ipython3",
   "version": "3.10.10"
  },
  "orig_nbformat": 4
 },
 "nbformat": 4,
 "nbformat_minor": 2
}
