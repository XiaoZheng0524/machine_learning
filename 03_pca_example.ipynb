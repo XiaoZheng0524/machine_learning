{
 "cells": [
  {
   "cell_type": "markdown",
   "metadata": {},
   "source": [
    "# instacart降维案例\n",
    "探究用户对不同类别物品的喜好"
   ]
  },
  {
   "cell_type": "markdown",
   "metadata": {},
   "source": [
    "数据结构：\n",
    "- order_products__prior.csv: 订单与商品信息\n",
    "    - order_id\n",
    "    - product_id\n",
    "    - add_to_cart_order\n",
    "    - reordered\n",
    "- products.csv: 商品信息\n",
    "    - product_id\n",
    "    - product_name\n",
    "    - aisle_id\n",
    "    - department_id\n",
    "- orders.csv: 用户的订单信息\n",
    "    - order_id\n",
    "    - user_id\n",
    "    - ...\n",
    "- aisles.csv: 商品所属具体物品类别\n",
    "    - aisle_id\n",
    "    - aisle"
   ]
  },
  {
   "cell_type": "markdown",
   "metadata": {},
   "source": [
    "1. 获取数据"
   ]
  },
  {
   "cell_type": "code",
   "execution_count": null,
   "metadata": {},
   "outputs": [],
   "source": [
    "import pandas as pd"
   ]
  },
  {
   "cell_type": "code",
   "execution_count": null,
   "metadata": {},
   "outputs": [],
   "source": [
    "order_products = pd.read_csv(\"data/instacart/order_products__prior.csv\")\n",
    "products = pd.read_csv(\"data/instacart/products.csv\")\n",
    "orders = pd.read_csv(\"data/instacart/orders.csv\")\n",
    "aisles = pd.read_csv(\"data/instacart/aisles.csv\")"
   ]
  },
  {
   "cell_type": "markdown",
   "metadata": {},
   "source": [
    "2. 数据合并"
   ]
  },
  {
   "cell_type": "code",
   "execution_count": null,
   "metadata": {},
   "outputs": [],
   "source": [
    "tab1 = pd.merge(aisles, products, on=[\"aisle_id\", \"aisle_id\"])\n",
    "tab2 = pd.merge(tab1, order_products, on=[\"product_id\", \"product_id\"])\n",
    "tab3 = pd.merge(tab2, orders, on=[\"order_id\", \"order_id\"])\n",
    "print(tab3.head())"
   ]
  },
  {
   "cell_type": "markdown",
   "metadata": {},
   "source": [
    "3. 找到user_id和aisle之间的关系"
   ]
  },
  {
   "cell_type": "code",
   "execution_count": null,
   "metadata": {},
   "outputs": [],
   "source": [
    "data = pd.crosstab(tab3[\"user_id\"], tab3[\"aisle\"])"
   ]
  },
  {
   "cell_type": "markdown",
   "metadata": {},
   "source": [
    "4、PCA降维"
   ]
  },
  {
   "cell_type": "code",
   "execution_count": null,
   "metadata": {},
   "outputs": [],
   "source": [
    "from sklearn.decomposition import PCA"
   ]
  },
  {
   "cell_type": "code",
   "execution_count": null,
   "metadata": {},
   "outputs": [],
   "source": [
    "# 1.实例化一个转换器类\n",
    "transfer = PCA(n_components=0.95)\n",
    "\n",
    "# 2.调用fit_transform\n",
    "data_new = transfer.fit_transform(data)\n",
    "\n",
    "print(data_new.shape)"
   ]
  }
 ],
 "metadata": {
  "kernelspec": {
   "display_name": "base",
   "language": "python",
   "name": "python3"
  },
  "language_info": {
   "codemirror_mode": {
    "name": "ipython",
    "version": 3
   },
   "file_extension": ".py",
   "mimetype": "text/x-python",
   "name": "python",
   "nbconvert_exporter": "python",
   "pygments_lexer": "ipython3",
   "version": "3.10.10"
  },
  "orig_nbformat": 4
 },
 "nbformat": 4,
 "nbformat_minor": 2
}
