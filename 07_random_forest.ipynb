{
 "cells": [
  {
   "cell_type": "markdown",
   "metadata": {},
   "source": [
    "# 随机森林\n",
    "适合处理大型高维特征的数据集，能够评估各个特征在分类问题上的重要性\n",
    "- 随机：N个样本，每个样本M个特征\n",
    "    - 训练样本随机，随机有放回地抽样，一次抽取一个样本，重复N次\n",
    "    - 特征数量随机，随机选取m个特征（m<<M）\n",
    "- 森林：包含多个决策树的分类器  "
   ]
  },
  {
   "cell_type": "markdown",
   "metadata": {},
   "source": [
    "泰坦尼克号遇难判断"
   ]
  },
  {
   "cell_type": "code",
   "execution_count": 7,
   "metadata": {},
   "outputs": [],
   "source": [
    "import pandas as pd\n",
    "from sklearn.ensemble import RandomForestClassifier\n",
    "from sklearn.feature_extraction import DictVectorizer\n",
    "from sklearn.model_selection import train_test_split, GridSearchCV"
   ]
  },
  {
   "cell_type": "code",
   "execution_count": 5,
   "metadata": {},
   "outputs": [],
   "source": [
    "# 1、 加载数据集\n",
    "titanic = pd.read_csv('data/titanic.csv')\n",
    "\n",
    "# 筛选特征值和目标值\n",
    "x = titanic[[\"pclass\", \"age\", \"sex\"]]\n",
    "y = titanic[\"survived\"]"
   ]
  },
  {
   "cell_type": "code",
   "execution_count": 6,
   "metadata": {},
   "outputs": [
    {
     "name": "stderr",
     "output_type": "stream",
     "text": [
      "/tmp/ipykernel_72590/4092191867.py:3: SettingWithCopyWarning: \n",
      "A value is trying to be set on a copy of a slice from a DataFrame\n",
      "\n",
      "See the caveats in the documentation: https://pandas.pydata.org/pandas-docs/stable/user_guide/indexing.html#returning-a-view-versus-a-copy\n",
      "  x[\"age\"].fillna(x[\"age\"].mean(), inplace=True)\n"
     ]
    }
   ],
   "source": [
    "# 2、数据处理\n",
    "# 1）缺失值处理\n",
    "x[\"age\"].fillna(x[\"age\"].mean(), inplace=True)\n",
    "\n",
    "# 2) 转换成字典\n",
    "x = x.to_dict(orient=\"records\")\n",
    "\n",
    "# 3) 数据集划分\n",
    "x_train, x_test, y_train, y_test = train_test_split(x, y, random_state=0)\n",
    "\n",
    "# 4) 字典特征抽取\n",
    "transfer = DictVectorizer()\n",
    "x_train = transfer.fit_transform(x_train)\n",
    "x_test = transfer.transform(x_test)"
   ]
  },
  {
   "cell_type": "code",
   "execution_count": 8,
   "metadata": {},
   "outputs": [
    {
     "data": {
      "text/html": [
       "<style>#sk-container-id-1 {color: black;background-color: white;}#sk-container-id-1 pre{padding: 0;}#sk-container-id-1 div.sk-toggleable {background-color: white;}#sk-container-id-1 label.sk-toggleable__label {cursor: pointer;display: block;width: 100%;margin-bottom: 0;padding: 0.3em;box-sizing: border-box;text-align: center;}#sk-container-id-1 label.sk-toggleable__label-arrow:before {content: \"▸\";float: left;margin-right: 0.25em;color: #696969;}#sk-container-id-1 label.sk-toggleable__label-arrow:hover:before {color: black;}#sk-container-id-1 div.sk-estimator:hover label.sk-toggleable__label-arrow:before {color: black;}#sk-container-id-1 div.sk-toggleable__content {max-height: 0;max-width: 0;overflow: hidden;text-align: left;background-color: #f0f8ff;}#sk-container-id-1 div.sk-toggleable__content pre {margin: 0.2em;color: black;border-radius: 0.25em;background-color: #f0f8ff;}#sk-container-id-1 input.sk-toggleable__control:checked~div.sk-toggleable__content {max-height: 200px;max-width: 100%;overflow: auto;}#sk-container-id-1 input.sk-toggleable__control:checked~label.sk-toggleable__label-arrow:before {content: \"▾\";}#sk-container-id-1 div.sk-estimator input.sk-toggleable__control:checked~label.sk-toggleable__label {background-color: #d4ebff;}#sk-container-id-1 div.sk-label input.sk-toggleable__control:checked~label.sk-toggleable__label {background-color: #d4ebff;}#sk-container-id-1 input.sk-hidden--visually {border: 0;clip: rect(1px 1px 1px 1px);clip: rect(1px, 1px, 1px, 1px);height: 1px;margin: -1px;overflow: hidden;padding: 0;position: absolute;width: 1px;}#sk-container-id-1 div.sk-estimator {font-family: monospace;background-color: #f0f8ff;border: 1px dotted black;border-radius: 0.25em;box-sizing: border-box;margin-bottom: 0.5em;}#sk-container-id-1 div.sk-estimator:hover {background-color: #d4ebff;}#sk-container-id-1 div.sk-parallel-item::after {content: \"\";width: 100%;border-bottom: 1px solid gray;flex-grow: 1;}#sk-container-id-1 div.sk-label:hover label.sk-toggleable__label {background-color: #d4ebff;}#sk-container-id-1 div.sk-serial::before {content: \"\";position: absolute;border-left: 1px solid gray;box-sizing: border-box;top: 0;bottom: 0;left: 50%;z-index: 0;}#sk-container-id-1 div.sk-serial {display: flex;flex-direction: column;align-items: center;background-color: white;padding-right: 0.2em;padding-left: 0.2em;position: relative;}#sk-container-id-1 div.sk-item {position: relative;z-index: 1;}#sk-container-id-1 div.sk-parallel {display: flex;align-items: stretch;justify-content: center;background-color: white;position: relative;}#sk-container-id-1 div.sk-item::before, #sk-container-id-1 div.sk-parallel-item::before {content: \"\";position: absolute;border-left: 1px solid gray;box-sizing: border-box;top: 0;bottom: 0;left: 50%;z-index: -1;}#sk-container-id-1 div.sk-parallel-item {display: flex;flex-direction: column;z-index: 1;position: relative;background-color: white;}#sk-container-id-1 div.sk-parallel-item:first-child::after {align-self: flex-end;width: 50%;}#sk-container-id-1 div.sk-parallel-item:last-child::after {align-self: flex-start;width: 50%;}#sk-container-id-1 div.sk-parallel-item:only-child::after {width: 0;}#sk-container-id-1 div.sk-dashed-wrapped {border: 1px dashed gray;margin: 0 0.4em 0.5em 0.4em;box-sizing: border-box;padding-bottom: 0.4em;background-color: white;}#sk-container-id-1 div.sk-label label {font-family: monospace;font-weight: bold;display: inline-block;line-height: 1.2em;}#sk-container-id-1 div.sk-label-container {text-align: center;}#sk-container-id-1 div.sk-container {/* jupyter's `normalize.less` sets `[hidden] { display: none; }` but bootstrap.min.css set `[hidden] { display: none !important; }` so we also need the `!important` here to be able to override the default hidden behavior on the sphinx rendered scikit-learn.org. See: https://github.com/scikit-learn/scikit-learn/issues/21755 */display: inline-block !important;position: relative;}#sk-container-id-1 div.sk-text-repr-fallback {display: none;}</style><div id=\"sk-container-id-1\" class=\"sk-top-container\"><div class=\"sk-text-repr-fallback\"><pre>GridSearchCV(cv=5, estimator=RandomForestClassifier(),\n",
       "             param_grid={&#x27;max_depth&#x27;: [5, 8, 15, 25, 30],\n",
       "                         &#x27;n_estimators&#x27;: [120, 200, 300, 500, 800, 1200]})</pre><b>In a Jupyter environment, please rerun this cell to show the HTML representation or trust the notebook. <br />On GitHub, the HTML representation is unable to render, please try loading this page with nbviewer.org.</b></div><div class=\"sk-container\" hidden><div class=\"sk-item sk-dashed-wrapped\"><div class=\"sk-label-container\"><div class=\"sk-label sk-toggleable\"><input class=\"sk-toggleable__control sk-hidden--visually\" id=\"sk-estimator-id-1\" type=\"checkbox\" ><label for=\"sk-estimator-id-1\" class=\"sk-toggleable__label sk-toggleable__label-arrow\">GridSearchCV</label><div class=\"sk-toggleable__content\"><pre>GridSearchCV(cv=5, estimator=RandomForestClassifier(),\n",
       "             param_grid={&#x27;max_depth&#x27;: [5, 8, 15, 25, 30],\n",
       "                         &#x27;n_estimators&#x27;: [120, 200, 300, 500, 800, 1200]})</pre></div></div></div><div class=\"sk-parallel\"><div class=\"sk-parallel-item\"><div class=\"sk-item\"><div class=\"sk-label-container\"><div class=\"sk-label sk-toggleable\"><input class=\"sk-toggleable__control sk-hidden--visually\" id=\"sk-estimator-id-2\" type=\"checkbox\" ><label for=\"sk-estimator-id-2\" class=\"sk-toggleable__label sk-toggleable__label-arrow\">estimator: RandomForestClassifier</label><div class=\"sk-toggleable__content\"><pre>RandomForestClassifier()</pre></div></div></div><div class=\"sk-serial\"><div class=\"sk-item\"><div class=\"sk-estimator sk-toggleable\"><input class=\"sk-toggleable__control sk-hidden--visually\" id=\"sk-estimator-id-3\" type=\"checkbox\" ><label for=\"sk-estimator-id-3\" class=\"sk-toggleable__label sk-toggleable__label-arrow\">RandomForestClassifier</label><div class=\"sk-toggleable__content\"><pre>RandomForestClassifier()</pre></div></div></div></div></div></div></div></div></div></div>"
      ],
      "text/plain": [
       "GridSearchCV(cv=5, estimator=RandomForestClassifier(),\n",
       "             param_grid={'max_depth': [5, 8, 15, 25, 30],\n",
       "                         'n_estimators': [120, 200, 300, 500, 800, 1200]})"
      ]
     },
     "execution_count": 8,
     "metadata": {},
     "output_type": "execute_result"
    }
   ],
   "source": [
    "# 3、随机森林预估器\n",
    "estimator = RandomForestClassifier()\n",
    "# 参数准备\n",
    "param_dict = {\"n_estimators\": [120,200,300,500,800,1200], \"max_depth\": [5,8,15,25,30]}\n",
    "estimator = GridSearchCV(estimator, param_grid=param_dict, cv=5)\n",
    "estimator.fit(x_train, y_train)"
   ]
  },
  {
   "cell_type": "code",
   "execution_count": 9,
   "metadata": {},
   "outputs": [
    {
     "name": "stdout",
     "output_type": "stream",
     "text": [
      "y_predict:\n",
      " [0 0 1 1 0 0 0 1 1 0 1 0 0 0 0 0 0 1 0 0 1 0 1 1 0 0 0 0 0 0 0 0 0 0 1 0 0\n",
      " 0 0 0 0 1 1 0 1 0 0 1 0 0 1 0 0 0 0 0 0 1 0 0 0 0 0 0 0 0 0 0 0 0 0 0 0 0\n",
      " 0 0 1 0 0 0 0 0 1 0 0 0 0 1 0 0 0 0 0 0 0 0 1 0 1 0 1 0 0 0 1 1 0 1 0 1 1\n",
      " 0 1 1 0 0 0 0 1 0 1 0 0 0 1 1 1 0 0 0 0 0 1 0 0 1 0 0 0 0 0 0 1 0 1 1 0 0\n",
      " 0 1 0 0 0 1 0 1 0 0 0 0 1 0 0 0 0 0 0 1 0 0 0 0 0 0 0 0 0 0 1 1 0 0 1 1 0\n",
      " 1 0 0 0 0 0 0 0 0 0 1 0 0 0 0 0 0 0 0 0 0 0 0 0 0 0 0 1 0 0 1 0 0 0 1 0 0\n",
      " 0 0 0 0 0 0 0 0 0 0 0 0 0 0 0 0 0 0 0 1 0 0 0 0 0 0 0 0 1 1 0 0 0 1 0 1 1\n",
      " 0 0 0 1 0 0 0 0 0 0 0 1 0 0 0 0 0 0 1 0 1 0 1 0 1 0 0 0 0 1 0 0 0 1 0 0 0\n",
      " 0 0 1 0 0 0 1 0 0 0 1 0 0 0 0 0 1 0 0 1 0 0 0 0 0 0 0 0 0 0 0 0 0]\n",
      "直接比对真实值和预测值:\n",
      " 588      True\n",
      "672      True\n",
      "31       True\n",
      "511      True\n",
      "792      True\n",
      "        ...  \n",
      "946     False\n",
      "60      False\n",
      "1291     True\n",
      "901      True\n",
      "632      True\n",
      "Name: survived, Length: 329, dtype: bool\n",
      "准确率为：\n",
      " 0.8480243161094225\n",
      "最佳参数：\n",
      " {'max_depth': 5, 'n_estimators': 800}\n",
      "最佳结果：\n",
      " 0.8150471356055112\n",
      "最佳估计器:\n",
      " RandomForestClassifier(max_depth=5, n_estimators=800)\n",
      "交叉验证结果:\n",
      " {'mean_fit_time': array([0.08583732, 0.14220114, 0.20461245, 0.34586353, 0.5535778 ,\n",
      "       0.81389041, 0.09415841, 0.15938582, 0.23331289, 0.38444462,\n",
      "       0.61070108, 0.93973956, 0.10192652, 0.16668754, 0.24299731,\n",
      "       0.41143689, 0.65340438, 1.09022832, 0.10486054, 0.17511239,\n",
      "       0.25414481, 0.42276435, 0.68302011, 1.04013634, 0.1032393 ,\n",
      "       0.18373547, 0.27692442, 0.45198216, 0.69271259, 1.05793824]), 'std_fit_time': array([0.00288942, 0.00725469, 0.0058374 , 0.0072355 , 0.00835614,\n",
      "       0.01657384, 0.00335589, 0.00518393, 0.00435894, 0.0069873 ,\n",
      "       0.00439648, 0.02260709, 0.000975  , 0.00204498, 0.00325275,\n",
      "       0.0087133 , 0.00581023, 0.05320865, 0.00217031, 0.00207697,\n",
      "       0.00199592, 0.00463716, 0.00390288, 0.01358076, 0.00206535,\n",
      "       0.01868801, 0.02636374, 0.0116766 , 0.01060247, 0.02893874]), 'mean_score_time': array([0.00498743, 0.00738773, 0.01020398, 0.01807642, 0.0410924 ,\n",
      "       0.04050083, 0.00491858, 0.00748811, 0.01189885, 0.01912885,\n",
      "       0.02883811, 0.04804425, 0.00649638, 0.00941935, 0.01209607,\n",
      "       0.02117033, 0.03513007, 0.06797886, 0.00583558, 0.00980468,\n",
      "       0.01357379, 0.02115884, 0.03618917, 0.05327992, 0.00647478,\n",
      "       0.00991869, 0.01314058, 0.03810205, 0.03783798, 0.05411096]), 'std_score_time': array([0.00039968, 0.000766  , 0.00012142, 0.00133659, 0.02838888,\n",
      "       0.00228732, 0.00025342, 0.00020343, 0.00100045, 0.00138966,\n",
      "       0.00081736, 0.00139619, 0.00098184, 0.00087544, 0.00147285,\n",
      "       0.00140399, 0.00232002, 0.02629395, 0.00069386, 0.00036751,\n",
      "       0.00142787, 0.0008653 , 0.00316986, 0.0014476 , 0.00116565,\n",
      "       0.00066234, 0.00080575, 0.02837177, 0.00305309, 0.00341909]), 'param_max_depth': masked_array(data=[5, 5, 5, 5, 5, 5, 8, 8, 8, 8, 8, 8, 15, 15, 15, 15, 15,\n",
      "                   15, 25, 25, 25, 25, 25, 25, 30, 30, 30, 30, 30, 30],\n",
      "             mask=[False, False, False, False, False, False, False, False,\n",
      "                   False, False, False, False, False, False, False, False,\n",
      "                   False, False, False, False, False, False, False, False,\n",
      "                   False, False, False, False, False, False],\n",
      "       fill_value='?',\n",
      "            dtype=object), 'param_n_estimators': masked_array(data=[120, 200, 300, 500, 800, 1200, 120, 200, 300, 500, 800,\n",
      "                   1200, 120, 200, 300, 500, 800, 1200, 120, 200, 300,\n",
      "                   500, 800, 1200, 120, 200, 300, 500, 800, 1200],\n",
      "             mask=[False, False, False, False, False, False, False, False,\n",
      "                   False, False, False, False, False, False, False, False,\n",
      "                   False, False, False, False, False, False, False, False,\n",
      "                   False, False, False, False, False, False],\n",
      "       fill_value='?',\n",
      "            dtype=object), 'params': [{'max_depth': 5, 'n_estimators': 120}, {'max_depth': 5, 'n_estimators': 200}, {'max_depth': 5, 'n_estimators': 300}, {'max_depth': 5, 'n_estimators': 500}, {'max_depth': 5, 'n_estimators': 800}, {'max_depth': 5, 'n_estimators': 1200}, {'max_depth': 8, 'n_estimators': 120}, {'max_depth': 8, 'n_estimators': 200}, {'max_depth': 8, 'n_estimators': 300}, {'max_depth': 8, 'n_estimators': 500}, {'max_depth': 8, 'n_estimators': 800}, {'max_depth': 8, 'n_estimators': 1200}, {'max_depth': 15, 'n_estimators': 120}, {'max_depth': 15, 'n_estimators': 200}, {'max_depth': 15, 'n_estimators': 300}, {'max_depth': 15, 'n_estimators': 500}, {'max_depth': 15, 'n_estimators': 800}, {'max_depth': 15, 'n_estimators': 1200}, {'max_depth': 25, 'n_estimators': 120}, {'max_depth': 25, 'n_estimators': 200}, {'max_depth': 25, 'n_estimators': 300}, {'max_depth': 25, 'n_estimators': 500}, {'max_depth': 25, 'n_estimators': 800}, {'max_depth': 25, 'n_estimators': 1200}, {'max_depth': 30, 'n_estimators': 120}, {'max_depth': 30, 'n_estimators': 200}, {'max_depth': 30, 'n_estimators': 300}, {'max_depth': 30, 'n_estimators': 500}, {'max_depth': 30, 'n_estimators': 800}, {'max_depth': 30, 'n_estimators': 1200}], 'split0_test_score': array([0.78172589, 0.78680203, 0.78680203, 0.78680203, 0.78680203,\n",
      "       0.78680203, 0.77664975, 0.78172589, 0.77664975, 0.78172589,\n",
      "       0.78172589, 0.78172589, 0.76649746, 0.7715736 , 0.7715736 ,\n",
      "       0.7715736 , 0.7715736 , 0.7715736 , 0.76649746, 0.7715736 ,\n",
      "       0.7715736 , 0.7715736 , 0.7715736 , 0.7715736 , 0.7715736 ,\n",
      "       0.76649746, 0.7715736 , 0.7715736 , 0.7715736 , 0.7715736 ]), 'split1_test_score': array([0.83756345, 0.83756345, 0.83756345, 0.83756345, 0.84771574,\n",
      "       0.84263959, 0.83756345, 0.83756345, 0.83248731, 0.83248731,\n",
      "       0.83248731, 0.83248731, 0.84771574, 0.84771574, 0.84771574,\n",
      "       0.84263959, 0.84263959, 0.84263959, 0.83248731, 0.83756345,\n",
      "       0.83248731, 0.83248731, 0.83248731, 0.84263959, 0.82741117,\n",
      "       0.83248731, 0.84771574, 0.83248731, 0.83248731, 0.84263959]), 'split2_test_score': array([0.82741117, 0.82741117, 0.82741117, 0.82741117, 0.82741117,\n",
      "       0.82741117, 0.81218274, 0.81218274, 0.81218274, 0.81218274,\n",
      "       0.81218274, 0.81218274, 0.81218274, 0.8071066 , 0.81218274,\n",
      "       0.8071066 , 0.8071066 , 0.81218274, 0.81218274, 0.81218274,\n",
      "       0.80203046, 0.8071066 , 0.8071066 , 0.81218274, 0.81218274,\n",
      "       0.81218274, 0.81218274, 0.8071066 , 0.8071066 , 0.81218274]), 'split3_test_score': array([0.79695431, 0.79187817, 0.79187817, 0.78680203, 0.79187817,\n",
      "       0.79187817, 0.78680203, 0.77664975, 0.78680203, 0.78680203,\n",
      "       0.79187817, 0.78172589, 0.75126904, 0.77664975, 0.7715736 ,\n",
      "       0.77664975, 0.77664975, 0.77664975, 0.7715736 , 0.7715736 ,\n",
      "       0.77664975, 0.77664975, 0.7715736 , 0.7715736 , 0.77664975,\n",
      "       0.7715736 , 0.77664975, 0.7715736 , 0.77664975, 0.77664975]), 'split4_test_score': array([0.82142857, 0.82142857, 0.82142857, 0.82142857, 0.82142857,\n",
      "       0.82142857, 0.80612245, 0.79591837, 0.79591837, 0.81122449,\n",
      "       0.79591837, 0.79591837, 0.7755102 , 0.78571429, 0.78571429,\n",
      "       0.78061224, 0.78571429, 0.78571429, 0.79081633, 0.79591837,\n",
      "       0.78571429, 0.78571429, 0.78571429, 0.78571429, 0.78061224,\n",
      "       0.79591837, 0.78571429, 0.78571429, 0.78571429, 0.78571429]), 'mean_test_score': array([0.81301668, 0.81301668, 0.81301668, 0.81200145, 0.81504714,\n",
      "       0.81403191, 0.80386408, 0.80080804, 0.80080804, 0.80488449,\n",
      "       0.8028385 , 0.80080804, 0.79063504, 0.79775199, 0.79775199,\n",
      "       0.79571636, 0.79673677, 0.79775199, 0.79471149, 0.79776235,\n",
      "       0.79369108, 0.79470631, 0.79369108, 0.79673677, 0.7936859 ,\n",
      "       0.7957319 , 0.79876722, 0.79369108, 0.79470631, 0.79775199]), 'std_test_score': array([0.02057969, 0.02007262, 0.02007262, 0.02121211, 0.0227834 ,\n",
      "       0.02137461, 0.02117395, 0.022145  , 0.01968075, 0.01854007,\n",
      "       0.0177771 , 0.01941714, 0.03488144, 0.02778274, 0.02905218,\n",
      "       0.02648045, 0.02597218, 0.02645246, 0.0248146 , 0.02516814,\n",
      "       0.02199051, 0.02246415, 0.02335431, 0.02732586, 0.02204374,\n",
      "       0.02473823, 0.0281957 , 0.02335431, 0.02246415, 0.02645246]), 'rank_test_score': array([ 5,  3,  3,  6,  1,  2,  8, 10, 10,  7,  9, 10, 30, 16, 15, 22, 20,\n",
      "       16, 23, 14, 26, 24, 26, 19, 29, 21, 13, 26, 24, 16], dtype=int32)}\n"
     ]
    }
   ],
   "source": [
    "# 4、模型评估\n",
    "# 方法1：直接比对真实值和预测值\n",
    "y_predict = estimator.predict(x_test)\n",
    "print(\"y_predict:\\n\", y_predict)\n",
    "print(\"直接比对真实值和预测值:\\n\", y_test == y_predict)\n",
    "\n",
    "# 方法2：计算准确率\n",
    "score = estimator.score(x_test, y_test)\n",
    "print(\"准确率为：\\n\", score)\n",
    "\n",
    "# 最佳参数：best_params_\n",
    "print(\"最佳参数：\\n\", estimator.best_params_)\n",
    "# 最佳结果：best_score_\n",
    "print(\"最佳结果：\\n\", estimator.best_score_)\n",
    "# 最佳估计器：best_estimator_\n",
    "print(\"最佳估计器:\\n\", estimator.best_estimator_)\n",
    "# 交叉验证结果：cv_results_\n",
    "print(\"交叉验证结果:\\n\", estimator.cv_results_)"
   ]
  }
 ],
 "metadata": {
  "kernelspec": {
   "display_name": "base",
   "language": "python",
   "name": "python3"
  },
  "language_info": {
   "codemirror_mode": {
    "name": "ipython",
    "version": 3
   },
   "file_extension": ".py",
   "mimetype": "text/x-python",
   "name": "python",
   "nbconvert_exporter": "python",
   "pygments_lexer": "ipython3",
   "version": "3.10.10"
  },
  "orig_nbformat": 4
 },
 "nbformat": 4,
 "nbformat_minor": 2
}
