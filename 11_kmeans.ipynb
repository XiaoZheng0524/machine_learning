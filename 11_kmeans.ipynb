{
 "cells": [
  {
   "cell_type": "markdown",
   "metadata": {},
   "source": [
    "# K-means聚类\n",
    "- 1.随机设置特征空间中的k个点作为初始的聚类中心\n",
    "- 2.对于其他的每个点，计算到每个聚类中心的距离，最近的一个聚类中心作为它的类别\n",
    "- 3.对所有点进行分类后，重新计算每个类的新中心点（平均值）\n",
    "- 4.如果每个新中心点都与原来的聚类中心相同或足够近，则结束，否则将新中心作为聚类中心从第二步继续执行"
   ]
  },
  {
   "cell_type": "markdown",
   "metadata": {},
   "source": [
    "- API: sklearn.cluster.KMeans(n_clusters)\n",
    "    - n_clusters: K"
   ]
  },
  {
   "cell_type": "markdown",
   "metadata": {},
   "source": [
    "# 聚类评价指标：\n",
    "- 高内聚，低耦合：\n",
    "    - 外部距离最大化\n",
    "    - 内部距离最小化\n",
    "- $SC_i = \\frac {b_i - a_i} {max(b_i, a_i)} $: 轮廓系数\n",
    "    - $b_i$: 点i到其他族群的所有样本的最小值\n",
    "    - $a_i$: 点i到自己族群的所有样本的平均值\n",
    "    - [-1, 1], 越接近1聚类效果越好，越接近-1聚类效果越差\n",
    "- API: sklearn.metrics.silhouette_score(X, labels)\n",
    "    - 计算所有样本的平均轮廓系数\n",
    "    - X: 特征值\n",
    "    - labels: 聚类结果"
   ]
  }
 ],
 "metadata": {
  "language_info": {
   "name": "python"
  },
  "orig_nbformat": 4
 },
 "nbformat": 4,
 "nbformat_minor": 2
}
