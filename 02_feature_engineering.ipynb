{
 "cells": [
  {
   "cell_type": "markdown",
   "metadata": {},
   "source": [
    "# 特征工程"
   ]
  },
  {
   "cell_type": "markdown",
   "metadata": {},
   "source": [
    "## 1. 特征提取\n",
    "将任意数据（文本、图像等）转换为可用于机器学习的数字特征"
   ]
  },
  {
   "cell_type": "markdown",
   "metadata": {},
   "source": [
    "### 1.1 字典特征提取"
   ]
  },
  {
   "cell_type": "code",
   "execution_count": 1,
   "metadata": {},
   "outputs": [],
   "source": [
    "from sklearn.feature_extraction import DictVectorizer"
   ]
  },
  {
   "cell_type": "code",
   "execution_count": 2,
   "metadata": {},
   "outputs": [
    {
     "name": "stdout",
     "output_type": "stream",
     "text": [
      "data_new:\n",
      " [[  0.   1.   0. 100.]\n",
      " [  1.   0.   0.  60.]\n",
      " [  0.   0.   1.  30.]] <class 'scipy.sparse._csr.csr_matrix'>\n",
      "特征名字：\n",
      " ['city=上海' 'city=北京' 'city=深圳' 'temperature']\n"
     ]
    }
   ],
   "source": [
    "data = [{'city': '北京','temperature':100}, \n",
    "        {'city': '上海','temperature':60}, \n",
    "        {'city': '深圳','temperature':30}]\n",
    "\n",
    "# 1、实例化一个转换器类\n",
    "transfer = DictVectorizer(sparse=True)\n",
    "\n",
    "# 2、调用fit_transform()\n",
    "data_new = transfer.fit_transform(data)\n",
    "print(\"data_new:\\n\", data_new.toarray(), type(data_new))\n",
    "print(\"特征名字：\\n\", transfer.get_feature_names_out())"
   ]
  },
  {
   "cell_type": "markdown",
   "metadata": {},
   "source": [
    "### 1.2 文本特征提取"
   ]
  },
  {
   "cell_type": "markdown",
   "metadata": {},
   "source": [
    "#### 1.2.1 CountVectorizer: 统计词频, 忽略单个字符"
   ]
  },
  {
   "cell_type": "code",
   "execution_count": 3,
   "metadata": {},
   "outputs": [],
   "source": [
    "from sklearn.feature_extraction.text import CountVectorizer"
   ]
  },
  {
   "cell_type": "code",
   "execution_count": 4,
   "metadata": {},
   "outputs": [
    {
     "name": "stdout",
     "output_type": "stream",
     "text": [
      "data_new:\n",
      " [[0 1 1 0 1 1]\n",
      " [1 1 0 1 1 0]]\n",
      "特征名字：\n",
      " ['dislike' 'life' 'like' 'long' 'python' 'short']\n"
     ]
    }
   ],
   "source": [
    "data = [\"Life is short,I like python\", \"Life is too long,I dislike python\"]\n",
    "\n",
    "# 1、实例化一个转换器类, stop_words为停用词，剔除一些无用词\n",
    "transfer = CountVectorizer(stop_words=[\"is\", \"too\"])\n",
    "\n",
    "# 2、调用fit_transform\n",
    "data_new = transfer.fit_transform(data)\n",
    "print(\"data_new:\\n\", data_new.toarray())\n",
    "print(\"特征名字：\\n\", transfer.get_feature_names_out())"
   ]
  },
  {
   "cell_type": "code",
   "execution_count": 5,
   "metadata": {},
   "outputs": [
    {
     "name": "stdout",
     "output_type": "stream",
     "text": [
      "data_new:\n",
      " [[0 1]\n",
      " [1 0]]\n",
      "特征名字：\n",
      " ['天安门上太阳升' '我爱北京天安门']\n"
     ]
    }
   ],
   "source": [
    "# 中文文本数据如果不采用空格或符号分开，会将一整个句子当作一个字\n",
    "data = [\"我爱北京天安门\", \"天安门上太阳升\"]\n",
    "# 1、实例化一个转换器类\n",
    "transfer = CountVectorizer()\n",
    "\n",
    "# 2、调用fit_transform\n",
    "data_new = transfer.fit_transform(data)\n",
    "print(\"data_new:\\n\", data_new.toarray())\n",
    "print(\"特征名字：\\n\", transfer.get_feature_names_out())"
   ]
  },
  {
   "cell_type": "code",
   "execution_count": 6,
   "metadata": {},
   "outputs": [
    {
     "name": "stdout",
     "output_type": "stream",
     "text": [
      "data_new:\n",
      " [[1 1 0]\n",
      " [0 1 1]]\n",
      "特征名字：\n",
      " ['北京' '天安门' '太阳']\n"
     ]
    }
   ],
   "source": [
    "# 需要对中文句子进行分词处理\n",
    "data = [\"我 爱 北京 天安门\", \"天安门 上 太阳 升\"]\n",
    "# 1、实例化一个转换器类\n",
    "transfer = CountVectorizer()\n",
    "\n",
    "# 2、调用fit_transform\n",
    "data_new = transfer.fit_transform(data)\n",
    "print(\"data_new:\\n\", data_new.toarray())\n",
    "print(\"特征名字：\\n\", transfer.get_feature_names_out())"
   ]
  },
  {
   "cell_type": "code",
   "execution_count": 7,
   "metadata": {},
   "outputs": [
    {
     "name": "stderr",
     "output_type": "stream",
     "text": [
      "Building prefix dict from the default dictionary ...\n",
      "Loading model from cache /tmp/jieba.cache\n"
     ]
    },
    {
     "name": "stderr",
     "output_type": "stream",
     "text": [
      "Loading model cost 0.435 seconds.\n",
      "Prefix dict has been built successfully.\n"
     ]
    },
    {
     "name": "stdout",
     "output_type": "stream",
     "text": [
      "data_new:\n",
      " [[0 1 0 0 0 2 0 0 0 0 0 1 0 1 0 0 0 0 1 0 2 0 1 0 2 1 0 0 0 1 1 0 0 1 0]\n",
      " [0 0 1 0 0 0 1 1 1 0 0 0 0 0 0 0 1 3 0 0 0 1 0 0 0 0 2 0 0 0 0 0 1 0 1]\n",
      " [1 0 0 4 3 0 0 0 0 1 1 0 1 0 1 1 0 1 0 1 0 0 0 1 0 0 0 2 1 0 0 1 0 0 0]]\n",
      "特征名字：\n",
      " ['不会' '不要' '之前' '了解' '事物' '今天' '光是在' '几百万年' '发出' '取决于' '只用' '后天' '含义'\n",
      " '大部分' '如何' '如果' '宇宙' '我们' '放弃' '方式' '明天' '星系' '晚上' '某样' '残酷' '每个' '看到'\n",
      " '真正' '秘密' '绝对' '美好' '联系' '过去' '还是' '这样']\n"
     ]
    }
   ],
   "source": [
    "# 使用jieba自动分词\n",
    "import jieba\n",
    "data = [\"一种还是一种今天很残酷，明天更残酷，后天很美好，但绝对大部分是死在明天晚上，所以每个人不要放弃今天。\",\n",
    "        \"我们看到的从很远星系来的光是在几百万年之前发出的，这样当我们看到宇宙时，我们是在看它的过去。\",\n",
    "        \"如果只用一种方式了解某样事物，你就不会真正了解它。了解事物真正含义的秘密取决于如何将其与我们所了解的事物相联系。\"]\n",
    "\n",
    "# 1、分词\n",
    "data_new = []\n",
    "for i in range(len(data)):\n",
    "    data_new.append(' '.join(list(jieba.cut(data[i]))))\n",
    "\n",
    "transfer = CountVectorizer(stop_words=[\"一种\", \"所以\"])\n",
    "\n",
    "# 2、调用fit_transform\n",
    "data_final = transfer.fit_transform(data_new)\n",
    "print(\"data_new:\\n\", data_final.toarray())\n",
    "print(\"特征名字：\\n\", transfer.get_feature_names_out())"
   ]
  },
  {
   "cell_type": "markdown",
   "metadata": {},
   "source": [
    "#### 1.2.2 TfidfVectorizer: \n",
    "- tf: term frequency,词频=某个词在该文本中出现的次数/该文本中所有词的总数\n",
    "- idf: inverse document frequency,逆向文档频率=log10(总文件数目/包含该词语的文件数)\n",
    "- tf*idf: 希望词在一个类别文章中出现的频率很高，在其他类别的文章中那个出现的频率很低,以便于得到更具有代表性的关键词"
   ]
  },
  {
   "cell_type": "code",
   "execution_count": 8,
   "metadata": {},
   "outputs": [],
   "source": [
    "import jieba\n",
    "from sklearn.feature_extraction.text import TfidfVectorizer"
   ]
  },
  {
   "cell_type": "code",
   "execution_count": 9,
   "metadata": {},
   "outputs": [
    {
     "name": "stdout",
     "output_type": "stream",
     "text": [
      "data_new:\n",
      " [[0.         0.21821789 0.         0.         0.         0.43643578\n",
      "  0.         0.         0.         0.         0.         0.21821789\n",
      "  0.         0.21821789 0.         0.         0.         0.\n",
      "  0.21821789 0.         0.43643578 0.         0.21821789 0.\n",
      "  0.43643578 0.21821789 0.         0.         0.         0.21821789\n",
      "  0.21821789 0.         0.         0.21821789 0.        ]\n",
      " [0.         0.         0.2410822  0.         0.         0.\n",
      "  0.2410822  0.2410822  0.2410822  0.         0.         0.\n",
      "  0.         0.         0.         0.         0.2410822  0.55004769\n",
      "  0.         0.         0.         0.2410822  0.         0.\n",
      "  0.         0.         0.48216441 0.         0.         0.\n",
      "  0.         0.         0.2410822  0.         0.2410822 ]\n",
      " [0.15895379 0.         0.         0.63581516 0.47686137 0.\n",
      "  0.         0.         0.         0.15895379 0.15895379 0.\n",
      "  0.15895379 0.         0.15895379 0.15895379 0.         0.12088845\n",
      "  0.         0.15895379 0.         0.         0.         0.15895379\n",
      "  0.         0.         0.         0.31790758 0.15895379 0.\n",
      "  0.         0.15895379 0.         0.         0.        ]]\n",
      "特征名字：\n",
      " ['不会' '不要' '之前' '了解' '事物' '今天' '光是在' '几百万年' '发出' '取决于' '只用' '后天' '含义'\n",
      " '大部分' '如何' '如果' '宇宙' '我们' '放弃' '方式' '明天' '星系' '晚上' '某样' '残酷' '每个' '看到'\n",
      " '真正' '秘密' '绝对' '美好' '联系' '过去' '还是' '这样']\n"
     ]
    }
   ],
   "source": [
    "data = [\"一种还是一种今天很残酷，明天更残酷，后天很美好，但绝对大部分是死在明天晚上，所以每个人不要放弃今天。\",\n",
    "        \"我们看到的从很远星系来的光是在几百万年之前发出的，这样当我们看到宇宙时，我们是在看它的过去。\",\n",
    "        \"如果只用一种方式了解某样事物，你就不会真正了解它。了解事物真正含义的秘密取决于如何将其与我们所了解的事物相联系。\"]\n",
    "\n",
    "# 1、分词\n",
    "data_new = []\n",
    "for i in range(len(data)):\n",
    "    data_new.append(' '.join(list(jieba.cut(data[i]))))\n",
    "\n",
    "transfer = TfidfVectorizer(stop_words=[\"一种\", \"所以\"])\n",
    "\n",
    "# 2、调用fit_transform\n",
    "data_final = transfer.fit_transform(data_new)\n",
    "print(\"data_new:\\n\", data_final.toarray())\n",
    "print(\"特征名字：\\n\", transfer.get_feature_names_out())"
   ]
  },
  {
   "cell_type": "markdown",
   "metadata": {},
   "source": [
    "## 2. 特征预处理\n",
    "无量纲化处理，避免一些特征数值过大使得模型无法对其他特征进行有效的学习"
   ]
  },
  {
   "cell_type": "markdown",
   "metadata": {},
   "source": [
    "### 2.1 归一化\n",
    "归一化的鲁棒性较差，容易受数据中出现异常点的影响，适合处理规模较小的数据"
   ]
  },
  {
   "cell_type": "code",
   "execution_count": 3,
   "metadata": {},
   "outputs": [],
   "source": [
    "import pandas as pd\n",
    "from sklearn.preprocessing import MinMaxScaler"
   ]
  },
  {
   "cell_type": "code",
   "execution_count": 6,
   "metadata": {},
   "outputs": [
    {
     "name": "stdout",
     "output_type": "stream",
     "text": [
      "data:\n",
      "      milage     Liters  Consumtime\n",
      "0     40920   8.326976    0.953952\n",
      "1     14488   7.153469    1.673904\n",
      "2     26052   1.441871    0.805124\n",
      "3     75136  13.147394    0.428964\n",
      "4     38344   1.669788    0.134296\n",
      "..      ...        ...         ...\n",
      "995   11145   3.410627    0.631838\n",
      "996   68846   9.974715    0.669787\n",
      "997   26575  10.650102    0.866627\n",
      "998   48111   9.134528    0.728045\n",
      "999   43757   7.882601    1.332446\n",
      "\n",
      "[1000 rows x 3 columns]\n",
      "data_new:\n",
      " [[2.44832535 2.39805139 2.56233353]\n",
      " [2.15873259 2.34195467 2.98724416]\n",
      " [2.28542943 2.06892523 2.47449629]\n",
      " ...\n",
      " [2.29115949 2.50910294 2.51079493]\n",
      " [2.52711097 2.43665451 2.4290048 ]\n",
      " [2.47940793 2.3768091  2.78571804]]\n"
     ]
    }
   ],
   "source": [
    "data = pd.read_csv(\"data/dating.txt\")\n",
    "data = data.iloc[:, :3]\n",
    "print(\"data:\\n\", data)\n",
    "\n",
    "# 1、实例化一个转换器类,将特征值放缩到feature_range\n",
    "transfer = MinMaxScaler(feature_range=(2, 3))\n",
    "\n",
    "# 2、调用fit_transform\n",
    "data_new = transfer.fit_transform(data)\n",
    "print(\"data_new:\\n\", data_new)"
   ]
  },
  {
   "cell_type": "markdown",
   "metadata": {},
   "source": [
    "### 2.2 标准化\n",
    "在样本较多的情况下比较稳定，适合处理现代嘈杂大数据场景"
   ]
  },
  {
   "cell_type": "code",
   "execution_count": 8,
   "metadata": {},
   "outputs": [],
   "source": [
    "import pandas as pd\n",
    "from sklearn.preprocessing import StandardScaler"
   ]
  },
  {
   "cell_type": "code",
   "execution_count": 10,
   "metadata": {},
   "outputs": [
    {
     "name": "stdout",
     "output_type": "stream",
     "text": [
      "data:\n",
      "      milage     Liters  Consumtime\n",
      "0     40920   8.326976    0.953952\n",
      "1     14488   7.153469    1.673904\n",
      "2     26052   1.441871    0.805124\n",
      "3     75136  13.147394    0.428964\n",
      "4     38344   1.669788    0.134296\n",
      "..      ...        ...         ...\n",
      "995   11145   3.410627    0.631838\n",
      "996   68846   9.974715    0.669787\n",
      "997   26575  10.650102    0.866627\n",
      "998   48111   9.134528    0.728045\n",
      "999   43757   7.882601    1.332446\n",
      "\n",
      "[1000 rows x 3 columns]\n",
      "data_new:\n",
      " [[ 0.33193158  0.41660188  0.24523407]\n",
      " [-0.87247784  0.13992897  1.69385734]\n",
      " [-0.34554872 -1.20667094 -0.05422437]\n",
      " ...\n",
      " [-0.32171752  0.96431572  0.06952649]\n",
      " [ 0.65959911  0.60699509 -0.20931587]\n",
      " [ 0.46120328  0.31183342  1.00680598]]\n"
     ]
    }
   ],
   "source": [
    "data = pd.read_csv(\"data/dating.txt\")\n",
    "data = data.iloc[:, :3]\n",
    "print(\"data:\\n\", data)\n",
    "\n",
    "# 1、实例化一个转换器类\n",
    "transfer = StandardScaler()\n",
    "\n",
    "# 2、调用fit_transform\n",
    "data_new = transfer.fit_transform(data)\n",
    "print(\"data_new:\\n\", data_new)"
   ]
  },
  {
   "cell_type": "markdown",
   "metadata": {},
   "source": [
    "## 3. 特征降维\n",
    "在某些限定条件下，降低随机变量特征的个数，得到一组不相关的主变量"
   ]
  },
  {
   "cell_type": "markdown",
   "metadata": {},
   "source": [
    "### 3.1 特征选择\n",
    "数据中包含冗余或相关特征，旨在从原有特征中找到主要特征\n",
    "- filter（过滤式）\n",
    "    - 方差选择法：低方差过滤（某个特征值在大多数样本的值比较接近）\n",
    "    - 相关系数：特征之间的相关程度\n",
    "- embeded（嵌入式）——算法自动选择特征\n",
    "    - 决策树：信息熵\n",
    "    - 正则化：L1，L2\n",
    "    - 深度学习：卷积等"
   ]
  },
  {
   "cell_type": "markdown",
   "metadata": {},
   "source": [
    "#### 3.1.1 低方差过滤\n",
    "sklearn.feature_selection.VarianceThreshold(threshold=0.0), 只保留方差大于threshold的特征"
   ]
  },
  {
   "cell_type": "code",
   "execution_count": 5,
   "metadata": {},
   "outputs": [],
   "source": [
    "import pandas as pd\n",
    "from sklearn.feature_selection import VarianceThreshold"
   ]
  },
  {
   "cell_type": "code",
   "execution_count": 9,
   "metadata": {},
   "outputs": [
    {
     "name": "stdout",
     "output_type": "stream",
     "text": [
      "data:\n",
      "       pe_ratio  pb_ratio    market_cap  return_on_asset_net_profit  \\\n",
      "0       5.9572    1.1818  8.525255e+10                      0.8008   \n",
      "1       7.0289    1.5880  8.411336e+10                      1.6463   \n",
      "2    -262.7461    7.0003  5.170455e+08                     -0.5678   \n",
      "3      16.4760    3.7146  1.968046e+10                      5.6036   \n",
      "4      12.5878    2.5616  4.172721e+10                      2.8729   \n",
      "...        ...       ...           ...                         ...   \n",
      "2313   25.0848    4.2323  2.274800e+10                     10.7833   \n",
      "2314   59.4849    1.6392  2.281400e+10                      1.2960   \n",
      "2315   39.5523    4.0052  1.702434e+10                      3.3440   \n",
      "2316   52.5408    2.4646  3.287910e+10                      2.7444   \n",
      "2317   14.2203    1.4103  5.911086e+10                      2.0383   \n",
      "\n",
      "      du_return_on_equity            ev  earnings_per_share       revenue  \\\n",
      "0                 14.9403  1.211445e+12              2.0100  2.070140e+10   \n",
      "1                  7.8656  3.002521e+11              0.3260  2.930837e+10   \n",
      "2                 -0.5943  7.705178e+08             -0.0060  1.167983e+07   \n",
      "3                 14.6170  2.800916e+10              0.3500  9.189387e+09   \n",
      "4                 10.9097  8.124738e+10              0.2710  8.951453e+09   \n",
      "...                   ...           ...                 ...           ...   \n",
      "2313              15.4895  2.784450e+10              0.8849  1.148170e+10   \n",
      "2314               2.4512  3.810122e+10              0.0900  1.731713e+09   \n",
      "2315               8.0679  2.420817e+10              0.2200  1.789082e+10   \n",
      "2316               2.9202  3.883803e+10              0.1210  6.465392e+09   \n",
      "2317               8.6179  2.020661e+11              0.2470  4.509872e+10   \n",
      "\n",
      "      total_expense  \n",
      "0      1.088254e+10  \n",
      "1      2.378348e+10  \n",
      "2      1.203008e+07  \n",
      "3      7.935543e+09  \n",
      "4      7.091398e+09  \n",
      "...             ...  \n",
      "2313   1.041419e+10  \n",
      "2314   1.089783e+09  \n",
      "2315   1.749295e+10  \n",
      "2316   6.009007e+09  \n",
      "2317   4.132842e+10  \n",
      "\n",
      "[2318 rows x 9 columns]\n",
      "data_new:\n",
      " [[ 5.95720000e+00  8.52525509e+10  8.00800000e-01 ...  1.21144486e+12\n",
      "   2.07014010e+10  1.08825400e+10]\n",
      " [ 7.02890000e+00  8.41133582e+10  1.64630000e+00 ...  3.00252062e+11\n",
      "   2.93083692e+10  2.37834769e+10]\n",
      " [-2.62746100e+02  5.17045520e+08 -5.67800000e-01 ...  7.70517753e+08\n",
      "   1.16798290e+07  1.20300800e+07]\n",
      " ...\n",
      " [ 3.95523000e+01  1.70243430e+10  3.34400000e+00 ...  2.42081699e+10\n",
      "   1.78908166e+10  1.74929478e+10]\n",
      " [ 5.25408000e+01  3.28790988e+10  2.74440000e+00 ...  3.88380258e+10\n",
      "   6.46539204e+09  6.00900728e+09]\n",
      " [ 1.42203000e+01  5.91108572e+10  2.03830000e+00 ...  2.02066110e+11\n",
      "   4.50987171e+10  4.13284212e+10]] (2318, 7)\n"
     ]
    }
   ],
   "source": [
    "data = pd.read_csv(\"data/factor_returns.csv\")\n",
    "data = data.iloc[:, 1:-2]\n",
    "print(\"data:\\n\", data)\n",
    "\n",
    "# 1、实例化一个转换器类\n",
    "transfer = VarianceThreshold(threshold=10)\n",
    "\n",
    "# 2、调用fit_transform\n",
    "data_new = transfer.fit_transform(data)\n",
    "print(\"data_new:\\n\", data_new, data_new.shape)"
   ]
  },
  {
   "cell_type": "markdown",
   "metadata": {},
   "source": [
    "#### 3.1.2 相关系数\n",
    "- 相关系数的值r位于-1~1之间\n",
    "    - r>0:正相关\n",
    "    - r<0:负相关\n",
    "    - |r|越大，相关性越大\n",
    "- 如果相关系数很高：\n",
    "    - 选择其中一个特征\n",
    "    - 加权求和得到新的特征"
   ]
  },
  {
   "cell_type": "code",
   "execution_count": 10,
   "metadata": {},
   "outputs": [],
   "source": [
    "import pandas as pd\n",
    "import matplotlib.pyplot as plt\n",
    "from scipy.stats import pearsonr"
   ]
  },
  {
   "cell_type": "code",
   "execution_count": 12,
   "metadata": {},
   "outputs": [
    {
     "data": {
      "image/png": "[encoded data removed]",
      "text/plain": [
       "<Figure size 2000x800 with 1 Axes>"
      ]
     },
     "metadata": {},
     "output_type": "display_data"
    },
    {
     "name": "stdout",
     "output_type": "stream",
     "text": [
      "revenue与total_expense之间的相关性：\n",
      " PearsonRResult(statistic=-0.004389322779936274, pvalue=0.8327205496590737)\n"
     ]
    }
   ],
   "source": [
    "data = pd.read_csv(\"data/factor_returns.csv\")\n",
    "data = data.iloc[:, 1:-2]\n",
    "\n",
    "# 1、绘制散点图\n",
    "plt.figure(figsize=[20,8])\n",
    "plt.scatter(data['revenue'], data['total_expense'])\n",
    "plt.show()\n",
    "\n",
    "# 2、计算某两个变量之间的相关系数\n",
    "r1 = pearsonr(data[\"pe_ratio\"], data[\"pb_ratio\"])\n",
    "print(\"revenue与total_expense之间的相关性：\\n\", r1)"
   ]
  },
  {
   "cell_type": "markdown",
   "metadata": {},
   "source": [
    "### 3.2 主成分分析（PCA，Principal Component Analysis）\n",
    "将高维数据转化为低维数据，在损失少量信息的代价上，尽可能的降低数据的维度（复杂性）  \n",
    "sklearn.decomposition.PCA(n_components=None), n_components:  \n",
    "- 小数：表示保留占比多少的信息\n",
    "- 整数：减少到几维特征"
   ]
  },
  {
   "cell_type": "code",
   "execution_count": 13,
   "metadata": {},
   "outputs": [],
   "source": [
    "from sklearn.decomposition import PCA"
   ]
  },
  {
   "cell_type": "code",
   "execution_count": 15,
   "metadata": {},
   "outputs": [
    {
     "name": "stdout",
     "output_type": "stream",
     "text": [
      "data_new:\n",
      " [[ 1.28620952e-15  3.82970843e+00]\n",
      " [ 5.74456265e+00 -1.91485422e+00]\n",
      " [-5.74456265e+00 -1.91485422e+00]]\n"
     ]
    }
   ],
   "source": [
    "data = [[2,8,4,5], [6,3,0,8], [5,4,9,1]]\n",
    "\n",
    "# 1、实例化一个转换器类\n",
    "transfer = PCA(n_components=2)\n",
    "\n",
    "# 2、调用fit_transform\n",
    "data_new = transfer.fit_transform(data)\n",
    "print(\"data_new:\\n\", data_new)"
   ]
  }
 ],
 "metadata": {
  "kernelspec": {
   "display_name": "base",
   "language": "python",
   "name": "python3"
  },
  "language_info": {
   "codemirror_mode": {
    "name": "ipython",
    "version": 3
   },
   "file_extension": ".py",
   "mimetype": "text/x-python",
   "name": "python",
   "nbconvert_exporter": "python",
   "pygments_lexer": "ipython3",
   "version": "3.10.10"
  },
  "orig_nbformat": 4
 },
 "nbformat": 4,
 "nbformat_minor": 2
}
